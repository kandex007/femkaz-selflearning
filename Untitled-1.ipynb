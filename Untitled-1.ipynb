excel is a comand that does arithmetic functions

