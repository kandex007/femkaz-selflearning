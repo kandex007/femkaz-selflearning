{
 "cells": [
  {
   "cell_type": "code",
   "execution_count": null,
   "metadata": {},
   "outputs": [],
   "source": []
  },
  {
   "cell_type": "markdown",
   "metadata": {},
   "source": [
    "SQL;\n",
    "Structured Query Language is a programing language used to manage and manipulate a relational databases.\n",
    "\n",
    "Relational Database defines database relationships in the form of tables"
   ]
  },
  {
   "cell_type": "markdown",
   "metadata": {},
   "source": [
    "SQL: is a programming language used to manage and manipulate relational database\n",
    "\n",
    "SOME IMPORTANT SQL COMMAND:\n",
    "1. SELECT \n",
    "2. UPDATE\n",
    "3. DELETE\n",
    "4. INSERT INTO\n",
    "5. CREATE DATABASE\n",
    "6. ALTER DATABASE\n",
    "7. CREATE TABLE\n",
    "8. ALTER TABLE\n",
    "9. DROP TABLE\n",
    "10. CREATE INDEX\n",
    "11. DROP INDEX \n",
    "\n",
    "SELECT CLAUSE\n",
    "Select syntax: select * from Customer;\n",
    "\n",
    "Select Distinct: is used to return only distinct (different)value.\n",
    "\n",
    "Select Distinct Syntax: Select Distinct column1 from table_name;\n",
    "\n",
    "WHERE CLAUSE: is used to filter records\n",
    "\n",
    "DIFF BTW TEXT FIELD $ NUMERIC FIELD....\n",
    "Test field are enclosed with quotes, NUMERIC is the opposite.\n",
    "\n",
    "And and OR comdition are used to filter records base on more than one condition.\n",
    "\n",
    "ORDER BY: Is used to set result set in ascending or descending order.\n",
    "\n",
    "NULL VALUE: A field with a null value is a field with no value\n",
    "\n"
   ]
  }
 ],
 "metadata": {
  "kernelspec": {
   "display_name": "Python 3",
   "language": "python",
   "name": "python3"
  },
  "language_info": {
   "name": "python",
   "version": "3.10.11"
  }
 },
 "nbformat": 4,
 "nbformat_minor": 2
}
